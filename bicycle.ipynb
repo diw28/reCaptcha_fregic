{
 "cells": [
  {
   "cell_type": "code",
   "execution_count": 86,
   "metadata": {},
   "outputs": [],
   "source": [
    "from keras.models import Sequential\n",
    "from keras.layers import Dense, Dropout, Flatten, Conv2D, MaxPooling2D\n",
    "from keras.callbacks import ModelCheckpoint, EarlyStopping\n",
    "from keras.metrics import F1Score\n",
    "import matplotlib.pyplot as plt\n",
    "import numpy as np\n",
    "import cv2\n",
    "from sklearn.model_selection import train_test_split"
   ]
  },
  {
   "attachments": {},
   "cell_type": "markdown",
   "metadata": {},
   "source": [
    "# 데이터셋 생성"
   ]
  },
  {
   "cell_type": "code",
   "execution_count": 87,
   "metadata": {},
   "outputs": [],
   "source": [
    "import os\n",
    "X = np.empty((1560, 100, 100, 3))\n",
    "Y = np.empty((1560,))\n",
    "\n",
    "files = os.listdir('./images/Bicycle')\n",
    "length = len(files)\n",
    "for i in range(length):\n",
    "    x = cv2.imread(f\"./images/Bicycle/{files[i]}\")\n",
    "    X[i] = cv2.resize(x, (100, 100))\n",
    "    Y[i] = 1\n",
    "\n",
    "files = os.listdir('./images/Other')\n",
    "for i in range(length):\n",
    "    x = cv2.imread(f\"./images/Other/{files[i]}\")\n",
    "    X[i+length] = cv2.resize(x, (100, 100))\n",
    "    Y[i+length] = 0\n"
   ]
  },
  {
   "cell_type": "code",
   "execution_count": 88,
   "metadata": {},
   "outputs": [],
   "source": [
    "X_train, X_test, y_train, y_test = train_test_split(X, Y, random_state=0)"
   ]
  },
  {
   "cell_type": "code",
   "execution_count": 89,
   "metadata": {},
   "outputs": [
    {
     "name": "stdout",
     "output_type": "stream",
     "text": [
      "(1170, 100, 100, 3)\n",
      "(390, 100, 100, 3)\n",
      "(1170,)\n",
      "(390,)\n"
     ]
    }
   ],
   "source": [
    "print(X_train.shape)\n",
    "print(X_test.shape)\n",
    "print( y_train.shape)\n",
    "print(y_test.shape)"
   ]
  },
  {
   "attachments": {},
   "cell_type": "markdown",
   "metadata": {},
   "source": [
    "# 모델 생성"
   ]
  },
  {
   "cell_type": "code",
   "execution_count": 90,
   "metadata": {},
   "outputs": [],
   "source": [
    "model = Sequential()\n",
    "model.add(Conv2D(16, (3,3), activation='relu', input_shape=(100, 100, 3)))\n",
    "model.add(Conv2D(16, (3,3), activation='relu'))\n",
    "model.add(MaxPooling2D())\n",
    "model.add(Conv2D(64, (3,3), activation='relu'))\n",
    "model.add(Conv2D(64, (3,3), activation='relu'))\n",
    "model.add(MaxPooling2D())\n",
    "model.add(Conv2D(256, (3,3), activation='relu'))\n",
    "model.add(Conv2D(256, (3,3), activation='relu'))\n",
    "model.add(Flatten())\n",
    "model.add(Dense(128, activation='relu'))\n",
    "model.add(Dropout(0.2))\n",
    "model.add(Dense(64, activation='relu'))\n",
    "model.add(Dropout(0.2))\n",
    "model.add(Dense(32, activation='relu'))\n",
    "model.add(Dropout(0.2))\n",
    "model.add(Dense(32, activation='relu'))\n",
    "model.add(Dense(1, activation='sigmoid'))"
   ]
  },
  {
   "cell_type": "code",
   "execution_count": 91,
   "metadata": {},
   "outputs": [],
   "source": [
    "model.compile(optimizer='adam', loss='binary_crossentropy', metrics=['accuracy'])"
   ]
  },
  {
   "cell_type": "code",
   "execution_count": 92,
   "metadata": {},
   "outputs": [],
   "source": [
    "modelpath=\"./motorcycle.hdf5\"\n",
    "checkpointer = ModelCheckpoint(filepath=modelpath, monitor='val_loss', verbose=1, save_best_only=True)\n",
    "early_stopping_callback = EarlyStopping(monitor='val_loss', patience=5)"
   ]
  },
  {
   "cell_type": "code",
   "execution_count": 93,
   "metadata": {},
   "outputs": [
    {
     "name": "stdout",
     "output_type": "stream",
     "text": [
      "Epoch 1/30\n",
      "9/9 [==============================] - ETA: 0s - loss: 1.6690 - accuracy: 0.5177\n",
      "Epoch 1: val_loss improved from inf to 0.69370, saving model to .\\motorcycle.hdf5\n",
      "9/9 [==============================] - 30s 3s/step - loss: 1.6690 - accuracy: 0.5177 - val_loss: 0.6937 - val_accuracy: 0.4915\n",
      "Epoch 2/30\n",
      "9/9 [==============================] - ETA: 0s - loss: 0.6469 - accuracy: 0.6374\n",
      "Epoch 2: val_loss improved from 0.69370 to 0.59117, saving model to .\\motorcycle.hdf5\n",
      "9/9 [==============================] - 22s 2s/step - loss: 0.6469 - accuracy: 0.6374 - val_loss: 0.5912 - val_accuracy: 0.7031\n",
      "Epoch 3/30\n",
      "9/9 [==============================] - ETA: 0s - loss: 0.5648 - accuracy: 0.7195\n",
      "Epoch 3: val_loss improved from 0.59117 to 0.54352, saving model to .\\motorcycle.hdf5\n",
      "9/9 [==============================] - 23s 3s/step - loss: 0.5648 - accuracy: 0.7195 - val_loss: 0.5435 - val_accuracy: 0.6997\n",
      "Epoch 4/30\n",
      "9/9 [==============================] - ETA: 0s - loss: 0.5660 - accuracy: 0.7286\n",
      "Epoch 4: val_loss improved from 0.54352 to 0.48529, saving model to .\\motorcycle.hdf5\n",
      "9/9 [==============================] - 22s 3s/step - loss: 0.5660 - accuracy: 0.7286 - val_loss: 0.4853 - val_accuracy: 0.7611\n",
      "Epoch 5/30\n",
      "9/9 [==============================] - ETA: 0s - loss: 0.5009 - accuracy: 0.7754\n",
      "Epoch 5: val_loss improved from 0.48529 to 0.42343, saving model to .\\motorcycle.hdf5\n",
      "9/9 [==============================] - 22s 2s/step - loss: 0.5009 - accuracy: 0.7754 - val_loss: 0.4234 - val_accuracy: 0.7884\n",
      "Epoch 6/30\n",
      "9/9 [==============================] - ETA: 0s - loss: 0.4641 - accuracy: 0.8062\n",
      "Epoch 6: val_loss did not improve from 0.42343\n",
      "9/9 [==============================] - 23s 3s/step - loss: 0.4641 - accuracy: 0.8062 - val_loss: 0.4306 - val_accuracy: 0.7884\n",
      "Epoch 7/30\n",
      "9/9 [==============================] - ETA: 0s - loss: 0.3893 - accuracy: 0.8312\n",
      "Epoch 7: val_loss did not improve from 0.42343\n",
      "9/9 [==============================] - 23s 3s/step - loss: 0.3893 - accuracy: 0.8312 - val_loss: 0.4255 - val_accuracy: 0.8055\n",
      "Epoch 8/30\n",
      "9/9 [==============================] - ETA: 0s - loss: 0.4366 - accuracy: 0.8096\n",
      "Epoch 8: val_loss did not improve from 0.42343\n",
      "9/9 [==============================] - 22s 2s/step - loss: 0.4366 - accuracy: 0.8096 - val_loss: 0.4272 - val_accuracy: 0.8225\n",
      "Epoch 9/30\n",
      "9/9 [==============================] - ETA: 0s - loss: 0.3649 - accuracy: 0.8632\n",
      "Epoch 9: val_loss did not improve from 0.42343\n",
      "9/9 [==============================] - 22s 2s/step - loss: 0.3649 - accuracy: 0.8632 - val_loss: 0.4431 - val_accuracy: 0.8089\n",
      "Epoch 10/30\n",
      "9/9 [==============================] - ETA: 0s - loss: 0.4249 - accuracy: 0.8438\n",
      "Epoch 10: val_loss did not improve from 0.42343\n",
      "9/9 [==============================] - 22s 2s/step - loss: 0.4249 - accuracy: 0.8438 - val_loss: 0.4357 - val_accuracy: 0.8157\n"
     ]
    }
   ],
   "source": [
    "\n",
    "history = model.fit(X_train, y_train, validation_split=0.25, epochs=30, batch_size=100, verbose=1, callbacks=[early_stopping_callback,checkpointer])"
   ]
  },
  {
   "cell_type": "code",
   "execution_count": 94,
   "metadata": {},
   "outputs": [
    {
     "name": "stdout",
     "output_type": "stream",
     "text": [
      "13/13 [==============================] - 3s 206ms/step - loss: 0.4480 - accuracy: 0.8333\n",
      "\n",
      " accuracy: 0.8333\n"
     ]
    }
   ],
   "source": [
    "print(\"\\n accuracy: %.4f\" % (model.evaluate(X_test, y_test)[1]))"
   ]
  },
  {
   "cell_type": "code",
   "execution_count": 95,
   "metadata": {},
   "outputs": [
    {
     "data": {
      "image/png": "[encoded data removed]",
      "text/plain": [
       "<Figure size 640x480 with 1 Axes>"
      ]
     },
     "metadata": {},
     "output_type": "display_data"
    }
   ],
   "source": [
    "# 검증셋과 학습셋의 오차를 저장합니다.\n",
    "y_vloss = history.history['val_loss']\n",
    "y_loss = history.history['loss']\n",
    "\n",
    "# 그래프로 표현해 봅니다.\n",
    "x_len = np.arange(len(y_loss))\n",
    "plt.plot(x_len, y_vloss, marker='.', c=\"red\", label='Testset_loss')\n",
    "plt.plot(x_len, y_loss, marker='.', c=\"blue\", label='Trainset_loss')\n",
    "\n",
    "# 그래프에 그리드를 주고 레이블을 표시하겠습니다.\n",
    "plt.legend(loc='upper right')\n",
    "plt.grid()\n",
    "plt.xlabel('epoch')\n",
    "plt.ylabel('loss')\n",
    "plt.show()"
   ]
  },
  {
   "cell_type": "code",
   "execution_count": 96,
   "metadata": {},
   "outputs": [],
   "source": [
    "model.save(\"motorcycle.h5\")"
   ]
  }
 ],
 "metadata": {
  "kernelspec": {
   "display_name": "base",
   "language": "python",
   "name": "python3"
  },
  "language_info": {
   "codemirror_mode": {
    "name": "ipython",
    "version": 3
   },
   "file_extension": ".py",
   "mimetype": "text/x-python",
   "name": "python",
   "nbconvert_exporter": "python",
   "pygments_lexer": "ipython3",
   "version": "3.10.9"
  },
  "orig_nbformat": 4
 },
 "nbformat": 4,
 "nbformat_minor": 2
}
