{
 "cells": [
  {
   "cell_type": "code",
   "execution_count": 5,
   "metadata": {},
   "outputs": [],
   "source": [
    "import os\n",
    "\n",
    "path = './img'\n",
    "\n",
    "images = os.listdir(path)"
   ]
  },
  {
   "cell_type": "code",
   "execution_count": 6,
   "metadata": {},
   "outputs": [
    {
     "name": "stdout",
     "output_type": "stream",
     "text": [
      "Bicycle               780\n",
      "Bridge                533\n",
      "Bus                  1209\n",
      "Car                  3558\n",
      "Chimney               124\n",
      "Crosswalk            1240\n",
      "Hydrant               952\n",
      "Motorcycle             81\n",
      "Other                1340\n",
      "Palm                  911\n",
      "Stair                 211\n",
      "Traffic Light         791\n"
     ]
    }
   ],
   "source": [
    "for folder in images:\n",
    "    elements = os.listdir(f'{path}/{folder}')\n",
    "    length = elements.__len__()\n",
    "    \n",
    "    print(f\"{folder:20s} {length:4d}\")"
   ]
  },
  {
   "cell_type": "code",
   "execution_count": 7,
   "metadata": {},
   "outputs": [
    {
     "name": "stdout",
     "output_type": "stream",
     "text": [
      "Bicycle               780\n",
      "Bridge                533\n",
      "Bus                  1000\n",
      "Car                  1000\n",
      "Chimney               124\n",
      "Crosswalk            1000\n",
      "Hydrant               952\n",
      "Motorcycle             81\n",
      "Other                1000\n",
      "Palm                  911\n",
      "Stair                 211\n",
      "Traffic Light         791\n"
     ]
    }
   ],
   "source": [
    "for folder in images:\n",
    "    elements = os.listdir(f'{path}/{folder}')\n",
    "    length = elements.__len__()\n",
    "\n",
    "    if length > 1000:\n",
    "        for e in elements[1000:]:\n",
    "            os.remove(f'{path}/{folder}/{e}')\n",
    "        elements = elements[:1000]\n",
    "    length = elements.__len__()\n",
    "    \n",
    "    print(f\"{folder:20s} {length:4d}\")\n",
    "\n"
   ]
  },
  {
   "cell_type": "code",
   "execution_count": 8,
   "metadata": {},
   "outputs": [],
   "source": [
    "for folder in images:\n",
    "    elements = os.listdir(f'{path}/{folder}')\n",
    "    length = elements.__len__()\n",
    "\n",
    "\n",
    "    for i in range(length):\n",
    "        os.rename(\n",
    "            f'{path}/{folder}/{elements[i]}',\n",
    "            f'{path}/{folder}/{folder}({i}).png',\n",
    "        )\n",
    "\n"
   ]
  },
  {
   "cell_type": "code",
   "execution_count": 11,
   "metadata": {},
   "outputs": [
    {
     "name": "stdout",
     "output_type": "stream",
     "text": [
      "['Bicycle', 'Bridge', 'Bus', 'Car', 'Crosswalk', 'Hydrant', 'Other', 'Palm', 'Traffic Light']\n"
     ]
    }
   ],
   "source": [
    "for folder in images:\n",
    "    elements = os.listdir(f'{path}/{folder}')\n",
    "    length = elements.__len__()\n",
    "\n",
    "    if length < 500:\n",
    "        for e in elements:\n",
    "            os.remove(f'{path}/{folder}/{e}')\n",
    "        os.rmdir(f'{path}/{folder}')\n",
    "\n",
    "images = os.listdir(path)\n",
    "print(images)"
   ]
  },
  {
   "cell_type": "code",
   "execution_count": 12,
   "metadata": {},
   "outputs": [
    {
     "name": "stdout",
     "output_type": "stream",
     "text": [
      "Bicycle\n",
      "Bridge\n",
      "Bus\n",
      "Car\n",
      "Crosswalk\n",
      "Hydrant\n",
      "Other\n",
      "Palm\n",
      "Traffic Light\n",
      "done\n"
     ]
    }
   ],
   "source": [
    "import cv2\n",
    "\n",
    "for folder in images:\n",
    "    elements = os.listdir(f'{path}/{folder}')\n",
    "    length = elements.__len__()\n",
    "\n",
    "    for i in range(1000-length):\n",
    "        img = cv2.imread(f'{path}/{folder}/{elements[i]}')\n",
    "        new_img = cv2.flip(img, 1)\n",
    "        cv2.imwrite(f'{path}/{folder}/{folder}({i+length}).png', new_img)\n",
    "    print(folder)\n",
    "print('done')"
   ]
  },
  {
   "cell_type": "code",
   "execution_count": 13,
   "metadata": {},
   "outputs": [
    {
     "name": "stdout",
     "output_type": "stream",
     "text": [
      "Bicycle              1000\n",
      "Bridge               1000\n",
      "Bus                  1000\n",
      "Car                  1000\n",
      "Crosswalk            1000\n",
      "Hydrant              1000\n",
      "Other                1000\n",
      "Palm                 1000\n",
      "Traffic Light        1000\n"
     ]
    }
   ],
   "source": [
    "for folder in images:\n",
    "    elements = os.listdir(f'{path}/{folder}')\n",
    "    length = elements.__len__()\n",
    "    \n",
    "    print(f\"{folder:20s} {length:4d}\")"
   ]
  }
 ],
 "metadata": {
  "kernelspec": {
   "display_name": "base",
   "language": "python",
   "name": "python3"
  },
  "language_info": {
   "codemirror_mode": {
    "name": "ipython",
    "version": 3
   },
   "file_extension": ".py",
   "mimetype": "text/x-python",
   "name": "python",
   "nbconvert_exporter": "python",
   "pygments_lexer": "ipython3",
   "version": "3.10.9"
  },
  "orig_nbformat": 4
 },
 "nbformat": 4,
 "nbformat_minor": 2
}
